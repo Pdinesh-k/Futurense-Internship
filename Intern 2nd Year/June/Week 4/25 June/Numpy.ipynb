{
  "nbformat": 4,
  "nbformat_minor": 0,
  "metadata": {
    "colab": {
      "provenance": []
    },
    "kernelspec": {
      "name": "python3",
      "display_name": "Python 3"
    },
    "language_info": {
      "name": "python"
    }
  },
  "cells": [
    {
      "cell_type": "code",
      "execution_count": 24,
      "metadata": {
        "id": "mNFhnYqv4TOD"
      },
      "outputs": [],
      "source": [
        "import numpy as np\n",
        "\n",
        "# Example usage:\n",
        "a = np.random.rand(2, 3, 4)\n",
        "b = np.random.rand(3, 4)\n",
        "c = np.random.rand(3, 4)\n",
        "d = np.random.rand(3, 1)\n",
        "e = np.random.rand(5, 3)\n",
        "f = np.random.rand(5)\n",
        "g = np.random.rand(4, 3, 2)\n",
        "h = np.random.rand(5, 5)\n",
        "i = np.array([0, 1])\n",
        "j = np.array([1, 2])\n",
        "l = np.random.rand(4, 5)\n",
        "n = np.random.rand(4, 6)\n",
        "o = np.array([[1, 2, 3], [4, 5, 6]])\n",
        "p = np.array([[1, 2, 3], [4, 1, 6], [7, 8, 9]])\n",
        "\n"
      ]
    },
    {
      "cell_type": "code",
      "source": [
        "def elementwise_multiplication(a, b):\n",
        "    return a * b\n",
        "print(elementwise_multiplication(a, b))"
      ],
      "metadata": {
        "colab": {
          "base_uri": "https://localhost:8080/"
        },
        "id": "rgwSWJlK4U2N",
        "outputId": "a3960aba-4f77-4191-ce19-1462f2ce05b7"
      },
      "execution_count": 25,
      "outputs": [
        {
          "output_type": "stream",
          "name": "stdout",
          "text": [
            "[[[0.59744708 0.84880739 0.0526732  0.20004631]\n",
            "  [0.01100306 0.61292195 0.52838655 0.19451824]\n",
            "  [0.3585485  0.01040412 0.13687173 0.07992529]]\n",
            "\n",
            " [[0.49806815 0.61152297 0.36011449 0.32137421]\n",
            "  [0.14273311 0.05366817 0.47198376 0.01845005]\n",
            "  [0.46943165 0.07645103 0.1209385  0.08878163]]]\n"
          ]
        }
      ]
    },
    {
      "cell_type": "code",
      "source": [
        "def broadcast_operations(c, d):\n",
        "    try:\n",
        "        addition = c + d\n",
        "        subtraction = c - d\n",
        "        multiplication = c * d\n",
        "        division = c / d\n",
        "    except ValueError:\n",
        "        print(\"Broadcasting not possible for given shapes.\")\n",
        "        return None, None, None, None\n",
        "    return addition, subtraction, multiplication, division\n",
        "print(broadcast_operations(c, d))"
      ],
      "metadata": {
        "colab": {
          "base_uri": "https://localhost:8080/"
        },
        "id": "p8RLIasz4kDq",
        "outputId": "33cf8240-b78d-4d20-fdb9-1a9befcc8f33"
      },
      "execution_count": 26,
      "outputs": [
        {
          "output_type": "stream",
          "name": "stdout",
          "text": [
            "(array([[1.40987635, 1.70159678, 1.48755209, 0.97614295],\n",
            "       [1.40936182, 1.76095498, 1.30490335, 1.76138156],\n",
            "       [1.10740789, 0.97504618, 1.62114498, 0.77997458]]), array([[-0.35950009, -0.06777966, -0.28182435, -0.79323349],\n",
            "       [-0.17134682,  0.18024633, -0.27580529,  0.18067291],\n",
            "       [-0.22983409, -0.36219579,  0.28390301, -0.55726739]]), array([[0.46462775, 0.72270938, 0.53334656, 0.08090892],\n",
            "       [0.48923525, 0.76711842, 0.40667605, 0.76745557],\n",
            "       [0.29338213, 0.20488232, 0.63687753, 0.07445335]]), array([[0.59364205, 0.92338582, 0.68144218, 0.10337509],\n",
            "       [0.78320252, 1.22805763, 0.65103589, 1.22859736],\n",
            "       [0.65625655, 0.45829431, 1.42460978, 0.16654218]]))\n"
          ]
        }
      ]
    },
    {
      "cell_type": "code",
      "source": [
        "def outer_product(e, f):\n",
        "    return e[:, :, np.newaxis] * f[np.newaxis, np.newaxis, :]\n",
        "print(outer_product(e, f))"
      ],
      "metadata": {
        "colab": {
          "base_uri": "https://localhost:8080/"
        },
        "id": "JiXGI6Me4kaE",
        "outputId": "ed12a46f-e9b2-48f6-ee8c-b61d1b9d17cc"
      },
      "execution_count": 27,
      "outputs": [
        {
          "output_type": "stream",
          "name": "stdout",
          "text": [
            "[[[0.08125532 0.03835902 0.10822607 0.06858036 0.12663758]\n",
            "  [0.10939366 0.05164256 0.14570424 0.09232941 0.17049158]\n",
            "  [0.579403   0.27352459 0.77172186 0.48902231 0.90300786]]\n",
            "\n",
            " [[0.32016559 0.15114379 0.42643684 0.27022317 0.49898265]\n",
            "  [0.15386889 0.07263843 0.20494196 0.12986699 0.23980687]\n",
            "  [0.12901121 0.06090362 0.17183337 0.10888683 0.20106581]]\n",
            "\n",
            " [[0.43525231 0.20547393 0.57972382 0.36735759 0.67834695]\n",
            "  [0.24135123 0.1139371  0.32146195 0.20370301 0.37614934]\n",
            "  [0.25318382 0.11952303 0.33722209 0.21368985 0.39459061]]\n",
            "\n",
            " [[0.15814626 0.0746577  0.21063911 0.13347713 0.24647321]\n",
            "  [0.30322143 0.14314479 0.40386848 0.25592212 0.47257494]\n",
            "  [0.17723735 0.08367021 0.23606701 0.14959021 0.27622694]]\n",
            "\n",
            " [[0.37064581 0.17497449 0.49367275 0.31282901 0.57765679]\n",
            "  [0.5719878  0.27002403 0.76184537 0.4827638  0.89145117]\n",
            "  [0.36114149 0.17048769 0.48101371 0.30480727 0.56284418]]]\n"
          ]
        }
      ]
    },
    {
      "cell_type": "code",
      "source": [
        "def extract_elements(g):\n",
        "    return g[::2, ::2, :]\n",
        "print(extract_elements(g))"
      ],
      "metadata": {
        "colab": {
          "base_uri": "https://localhost:8080/"
        },
        "id": "tbSnGxdb4ktc",
        "outputId": "87ce7383-91bf-45df-d433-162039085b1b"
      },
      "execution_count": 28,
      "outputs": [
        {
          "output_type": "stream",
          "name": "stdout",
          "text": [
            "[[[0.98624995 0.52532151]\n",
            "  [0.12389646 0.24324905]]\n",
            "\n",
            " [[0.592878   0.73032234]\n",
            "  [0.46471205 0.00883013]]]\n"
          ]
        }
      ]
    },
    {
      "cell_type": "code",
      "source": [
        "def sum_diagonal_elements(h, i, j):\n",
        "    k = np.array([h[i[m], j[n]] for m in range(len(i)) for n in range(len(j))])\n",
        "    return k.reshape(len(i), len(j))\n",
        "print(sum_diagonal_elements(h, i, j))"
      ],
      "metadata": {
        "colab": {
          "base_uri": "https://localhost:8080/"
        },
        "id": "dmDGFWgK4lHE",
        "outputId": "e2c76878-480c-4fe6-c25e-a3a060a6809d"
      },
      "execution_count": 29,
      "outputs": [
        {
          "output_type": "stream",
          "name": "stdout",
          "text": [
            "[[0.88472506 0.66433503]\n",
            " [0.68649551 0.37044757]]\n"
          ]
        }
      ]
    },
    {
      "cell_type": "code",
      "source": [
        "def reshape_and_flatten(n):\n",
        "    reshaped = n.reshape(2, 2, 6)\n",
        "    flattened = reshaped.reshape(4, 6)\n",
        "    return flattened\n",
        "print(reshape_and_flatten(n))"
      ],
      "metadata": {
        "colab": {
          "base_uri": "https://localhost:8080/"
        },
        "id": "g0eBo2rT545x",
        "outputId": "67973c6f-9e73-4f1f-e76c-a5cef9c485f5"
      },
      "execution_count": 30,
      "outputs": [
        {
          "output_type": "stream",
          "name": "stdout",
          "text": [
            "[[0.93511913 0.39993078 0.94521833 0.24563404 0.07394927 0.96645688]\n",
            " [0.29465364 0.85856291 0.48989016 0.78053001 0.98830899 0.36432602]\n",
            " [0.22011757 0.93091794 0.58197038 0.69475358 0.49443989 0.37573598]\n",
            " [0.25472169 0.56414784 0.59840126 0.43141756 0.18741926 0.43782066]]\n"
          ]
        }
      ]
    },
    {
      "cell_type": "code",
      "source": [
        "def row_col_mean_product(l):\n",
        "    row_means = l.mean(axis=1, keepdims=True)\n",
        "    col_means = l.mean(axis=0, keepdims=True)\n",
        "    return row_means * col_means\n",
        "print(row_col_mean_product(l))"
      ],
      "metadata": {
        "colab": {
          "base_uri": "https://localhost:8080/"
        },
        "id": "QLEzpuoA4tLh",
        "outputId": "479a838b-9a78-4798-fe83-c91e4c5cf229"
      },
      "execution_count": 31,
      "outputs": [
        {
          "output_type": "stream",
          "name": "stdout",
          "text": [
            "[[0.31764197 0.28102952 0.33019305 0.14672713 0.31865046]\n",
            " [0.22091629 0.19545276 0.22964542 0.10204701 0.22161768]\n",
            " [0.49057657 0.43403112 0.50996088 0.22661014 0.49213412]\n",
            " [0.29057143 0.25707922 0.30205287 0.13422254 0.29149397]]\n"
          ]
        }
      ]
    },
    {
      "cell_type": "code",
      "source": [
        "def roll_array(o, positions):\n",
        "    return np.roll(o, positions, axis=0)\n",
        "print(roll_array(o, 1))"
      ],
      "metadata": {
        "colab": {
          "base_uri": "https://localhost:8080/"
        },
        "id": "87IU5Ou34tet",
        "outputId": "6ca4dc5a-e6ef-4671-84ef-188797a8972a"
      },
      "execution_count": 32,
      "outputs": [
        {
          "output_type": "stream",
          "name": "stdout",
          "text": [
            "[[4 5 6]\n",
            " [1 2 3]]\n"
          ]
        }
      ]
    },
    {
      "cell_type": "code",
      "source": [
        "def replace_with_mean(p, x):\n",
        "    rows, cols = p.shape\n",
        "    mean_replacement = p.copy()\n",
        "    for i in range(rows):\n",
        "        for j in range(cols):\n",
        "            if p[i, j] == x:\n",
        "                neighbors = []\n",
        "                if i > 0:\n",
        "                    neighbors.append(p[i - 1, j])\n",
        "                if i < rows - 1:\n",
        "                    neighbors.append(p[i + 1, j])\n",
        "                if j > 0:\n",
        "                    neighbors.append(p[i, j - 1])\n",
        "                if j < cols - 1:\n",
        "                    neighbors.append(p[i, j + 1])\n",
        "                if neighbors:\n",
        "                    mean_replacement[i, j] = np.mean(neighbors)\n",
        "    return mean_replacement\n",
        "print(replace_with_mean(p, 1))"
      ],
      "metadata": {
        "colab": {
          "base_uri": "https://localhost:8080/"
        },
        "id": "KNSrBppx4tym",
        "outputId": "b06e96a8-5446-482a-8e0d-178b0b86690f"
      },
      "execution_count": 33,
      "outputs": [
        {
          "output_type": "stream",
          "name": "stdout",
          "text": [
            "[[3 2 3]\n",
            " [4 5 6]\n",
            " [7 8 9]]\n"
          ]
        }
      ]
    },
    {
      "cell_type": "code",
      "source": [],
      "metadata": {
        "id": "93Rlaveb5ANm"
      },
      "execution_count": 33,
      "outputs": []
    }
  ]
}