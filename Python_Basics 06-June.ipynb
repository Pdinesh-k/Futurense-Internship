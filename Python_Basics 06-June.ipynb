{
  "nbformat": 4,
  "nbformat_minor": 0,
  "metadata": {
    "colab": {
      "provenance": []
    },
    "kernelspec": {
      "name": "python3",
      "display_name": "Python 3"
    },
    "language_info": {
      "name": "python"
    }
  },
  "cells": [
    {
      "cell_type": "markdown",
      "source": [
        "#Area Calculator"
      ],
      "metadata": {
        "id": "5ecUtLh411g4"
      }
    },
    {
      "cell_type": "markdown",
      "source": [
        "Create a function Calculate_area(shape, dimensions) that takes the shape (e.g., \"rectangle\", \"circle\") and its dimensions as arguments.\n",
        "The function should calculate the area based on the shape and return the result.\n",
        "Implement logic for handling different shapes (rectangle, circle) and their corresponding dimensions (length, width for rectangle; radius for circle)"
      ],
      "metadata": {
        "id": "Xs_CJMB92sEF"
      }
    },
    {
      "cell_type": "code",
      "source": [
        "import math\n",
        "\n",
        "def calculate_area(shape, dimensions):\n",
        "    if shape == \"rectangle\":\n",
        "        l, b = dimensions\n",
        "        ans = l * b\n",
        "        return f'The area of the rectangle is {ans}'\n",
        "\n",
        "    elif shape == \"circle\":\n",
        "        r, = dimensions\n",
        "        ans = math.pi * r ** 2\n",
        "        return f'The area of the circle is {ans}'\n",
        "\n",
        "    elif shape == \"triangle\":\n",
        "        b, h = dimensions\n",
        "        ans = 0.5 * b * h\n",
        "        return f'The area of the triangle is {ans}'\n",
        "\n",
        "    elif shape == \"square\":\n",
        "        s, = dimensions\n",
        "        ans = s ** 2\n",
        "        return f'The area of the square is {ans}'\n",
        "\n",
        "    else:\n",
        "        return \"Invalid shape\"\n",
        "\n",
        "\n",
        "print(calculate_area(\"rectangle\", (4, 5)))"
      ],
      "metadata": {
        "colab": {
          "base_uri": "https://localhost:8080/"
        },
        "id": "hTSjVpg31-VU",
        "outputId": "26d91269-f7ce-47c3-e7e5-a26bfe58fbc5"
      },
      "execution_count": 4,
      "outputs": [
        {
          "output_type": "stream",
          "name": "stdout",
          "text": [
            "The area of the rectangle is 20\n"
          ]
        }
      ]
    },
    {
      "cell_type": "markdown",
      "source": [
        "#String Manipulation:"
      ],
      "metadata": {
        "id": "UKJYGNMX8K0m"
      }
    },
    {
      "cell_type": "code",
      "source": [
        "def reverse_words(text):\n",
        "    words = text.split()\n",
        "    reversed_words = words[::-1]\n",
        "    reversed_text = ' '.join(reversed_words)\n",
        "    return reversed_text\n",
        "\n",
        "print(reverse_words(\"Hello my name is Cheenu\"))"
      ],
      "metadata": {
        "colab": {
          "base_uri": "https://localhost:8080/"
        },
        "id": "2fl2Xj0_4kak",
        "outputId": "c66d97a0-9e6a-4169-d87b-be4bce551b43"
      },
      "execution_count": 5,
      "outputs": [
        {
          "output_type": "stream",
          "name": "stdout",
          "text": [
            "test a is this world Hello\n"
          ]
        }
      ]
    },
    {
      "cell_type": "markdown",
      "source": [
        "#List Statistics:"
      ],
      "metadata": {
        "id": "JWNO75Ty8Qnz"
      }
    },
    {
      "cell_type": "code",
      "source": [
        "def analyze_list(numbers):\n",
        "\n",
        "    min_value = min(numbers)\n",
        "    max_value = max(numbers)\n",
        "    average_value = sum(numbers) / len(numbers)\n",
        "\n",
        "    return {\n",
        "        \"min\": min_value,\n",
        "        \"max\": max_value,\n",
        "        \"average\": average_value\n",
        "    }\n",
        "\n",
        "numbers = [4, 8, 15, 16, 23, 42]\n",
        "result = analyze_list(numbers)\n",
        "print(result)\n"
      ],
      "metadata": {
        "colab": {
          "base_uri": "https://localhost:8080/"
        },
        "id": "Aizsh7hb6DDK",
        "outputId": "6108221a-cdca-4c1d-cf93-611ca92fa185"
      },
      "execution_count": 6,
      "outputs": [
        {
          "output_type": "stream",
          "name": "stdout",
          "text": [
            "{'min': 4, 'max': 42, 'average': 18.0}\n"
          ]
        }
      ]
    },
    {
      "cell_type": "markdown",
      "source": [
        "#Filtering with Lambda:"
      ],
      "metadata": {
        "id": "Vpm11m2A8WLe"
      }
    },
    {
      "cell_type": "code",
      "source": [
        "def filter_short_names(names, max_length):\n",
        "    return list(filter(lambda name: len(name) < max_length, names))\n",
        "\n",
        "max_length = 6\n",
        "product_names = [\"Apple\", \"Banana\", \"Cherry\", \"Date\", \"Elderberry\", \"Fig\", \"Grape\", \"Honeydew\"]\n",
        "\n",
        "short_names = filter_short_names(product_names, max_length)\n",
        "\n",
        "print(short_names)\n"
      ],
      "metadata": {
        "colab": {
          "base_uri": "https://localhost:8080/"
        },
        "id": "ahudj7pu6mdl",
        "outputId": "c4d140a5-899c-4466-9178-daa287b3c031"
      },
      "execution_count": 8,
      "outputs": [
        {
          "output_type": "stream",
          "name": "stdout",
          "text": [
            "['Apple', 'Date', 'Fig', 'Grape']\n"
          ]
        }
      ]
    },
    {
      "cell_type": "markdown",
      "source": [
        "#Text Analyzer (Bonus Challenge):"
      ],
      "metadata": {
        "id": "f3Zs6_4o8cGT"
      }
    },
    {
      "cell_type": "code",
      "source": [
        "from collections import Counter\n",
        "import re\n",
        "\n",
        "def analyze_text(text):\n",
        "    words = text.split()\n",
        "    word_count = len(words)\n",
        "    char_count = len(re.sub(r'\\s+', '', text))\n",
        "    word_frequencies = Counter(word.lower() for word in words)\n",
        "    most_frequent_word = word_frequencies.most_common(1)[0][0] if word_frequencies else None\n",
        "\n",
        "    return {\n",
        "        \"word_count\": word_count,\n",
        "        \"char_count\": char_count,\n",
        "        \"most_frequent_word\": most_frequent_word\n",
        "    }\n",
        "\n",
        "text = \"Hi hello this is cheenu\"\n",
        "result = analyze_text(text)\n",
        "print(result)\n"
      ],
      "metadata": {
        "colab": {
          "base_uri": "https://localhost:8080/"
        },
        "id": "MyQfhzUQ7QM6",
        "outputId": "09ce5e71-d8b1-4fc3-c5b8-9c98d4016a84"
      },
      "execution_count": 10,
      "outputs": [
        {
          "output_type": "stream",
          "name": "stdout",
          "text": [
            "{'word_count': 5, 'char_count': 19, 'most_frequent_word': 'hi'}\n"
          ]
        }
      ]
    },
    {
      "cell_type": "code",
      "source": [],
      "metadata": {
        "id": "v9lrA6nm7_8t"
      },
      "execution_count": null,
      "outputs": []
    }
  ]
}