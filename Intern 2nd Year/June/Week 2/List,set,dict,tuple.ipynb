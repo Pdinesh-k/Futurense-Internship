{
  "nbformat": 4,
  "nbformat_minor": 0,
  "metadata": {
    "colab": {
      "provenance": []
    },
    "kernelspec": {
      "name": "python3",
      "display_name": "Python 3"
    },
    "language_info": {
      "name": "python"
    }
  },
  "cells": [
    {
      "cell_type": "markdown",
      "source": [
        "#List"
      ],
      "metadata": {
        "id": "vPQ3fp3Xs0xS"
      }
    },
    {
      "cell_type": "markdown",
      "source": [
        "Managing a list of pet dictionaries"
      ],
      "metadata": {
        "id": "T_-INMTis5VA"
      }
    },
    {
      "cell_type": "code",
      "source": [
        "pets = [\n",
        "    {\"name\": \"Bella\", \"type\": \"Dog\", \"age\": 5},\n",
        "    {\"name\": \"Charlie\", \"type\": \"Cat\", \"age\": 3},\n",
        "    {\"name\": \"Max\", \"type\": \"Dog\", \"age\": 2}\n",
        "]\n",
        "# Adding a new pet\n",
        "pets.append({\"name\": \"Luna\", \"type\": \"Bird\", \"age\": 1})\n",
        "\n",
        "# Removing a pet by name\n",
        "pets = [pet for pet in pets if pet[\"name\"] != \"Charlie\"]\n",
        "\n",
        "# Updating the age of a pet\n",
        "for pet in pets:\n",
        "    if pet[\"name\"] == \"Max\":\n",
        "        pet[\"age\"] = 3\n",
        "\n",
        "print(pets)\n"
      ],
      "metadata": {
        "colab": {
          "base_uri": "https://localhost:8080/"
        },
        "id": "NLefJ2fAtJRv",
        "outputId": "fd626909-3bb3-4920-b9c0-fc1467e60cf4"
      },
      "execution_count": 3,
      "outputs": [
        {
          "output_type": "stream",
          "name": "stdout",
          "text": [
            "[{'name': 'Bella', 'type': 'Dog', 'age': 5}, {'name': 'Max', 'type': 'Dog', 'age': 3}, {'name': 'Luna', 'type': 'Bird', 'age': 1}]\n"
          ]
        }
      ]
    },
    {
      "cell_type": "markdown",
      "source": [
        "Filtering and sorting pets based on type and age:"
      ],
      "metadata": {
        "id": "qXw7mrCutKzb"
      }
    },
    {
      "cell_type": "code",
      "source": [
        "pets = [\n",
        "    {\"name\": \"Bella\", \"type\": \"Dog\", \"age\": 5},\n",
        "    {\"name\": \"Charlie\", \"type\": \"Cat\", \"age\": 3},\n",
        "    {\"name\": \"Max\", \"type\": \"Dog\", \"age\": 2},\n",
        "    {\"name\": \"Luna\", \"type\": \"Bird\", \"age\": 1},\n",
        "    {\"name\": \"Rocky\", \"type\": \"Hamster\", \"age\": 2}\n",
        "]\n",
        "\n",
        "# Filter pets that are dogs\n",
        "dogs = [pet for pet in pets if pet[\"type\"] == \"Dog\"]\n",
        "\n",
        "# Sort pets by age\n",
        "sorted_pets = sorted(pets, key=lambda pet: pet[\"age\"])\n",
        "\n",
        "print(\"Dogs:\", dogs)\n",
        "print(\"Sorted pets by age:\", sorted_pets)\n"
      ],
      "metadata": {
        "colab": {
          "base_uri": "https://localhost:8080/"
        },
        "id": "cYo4Pu9_tOvH",
        "outputId": "b84e7810-1528-465f-ab0b-12b3d879767f"
      },
      "execution_count": 4,
      "outputs": [
        {
          "output_type": "stream",
          "name": "stdout",
          "text": [
            "Dogs: [{'name': 'Bella', 'type': 'Dog', 'age': 5}, {'name': 'Max', 'type': 'Dog', 'age': 2}]\n",
            "Sorted pets by age: [{'name': 'Luna', 'type': 'Bird', 'age': 1}, {'name': 'Max', 'type': 'Dog', 'age': 2}, {'name': 'Rocky', 'type': 'Hamster', 'age': 2}, {'name': 'Charlie', 'type': 'Cat', 'age': 3}, {'name': 'Bella', 'type': 'Dog', 'age': 5}]\n"
          ]
        }
      ]
    },
    {
      "cell_type": "markdown",
      "source": [
        "Merging and manipulating lists of pet names:"
      ],
      "metadata": {
        "id": "UExrU7oJtQGy"
      }
    },
    {
      "cell_type": "code",
      "source": [
        "dogs = [\"Bella\", \"Max\"]\n",
        "cats = [\"Charlie\"]\n",
        "birds = [\"Luna\"]\n",
        "\n",
        "# Merging lists\n",
        "all_pets = dogs + cats + birds\n",
        "\n",
        "# Adding multiple pets\n",
        "all_pets.extend([\"Rocky\", \"Buddy\"])\n",
        "\n",
        "# Removing a pet by index\n",
        "del all_pets[all_pets.index(\"Charlie\")]\n",
        "\n",
        "print(all_pets)\n"
      ],
      "metadata": {
        "colab": {
          "base_uri": "https://localhost:8080/"
        },
        "id": "yjznEXvJtUYd",
        "outputId": "82b53eb6-c551-4a0a-d977-b1fea32b2598"
      },
      "execution_count": 5,
      "outputs": [
        {
          "output_type": "stream",
          "name": "stdout",
          "text": [
            "['Bella', 'Max', 'Luna', 'Rocky', 'Buddy']\n"
          ]
        }
      ]
    },
    {
      "cell_type": "markdown",
      "source": [
        "#Tuples"
      ],
      "metadata": {
        "id": "CqC3T3HvtV_K"
      }
    },
    {
      "cell_type": "markdown",
      "source": [
        "Creating a tuple of pet details and accessing elements:"
      ],
      "metadata": {
        "id": "o9MFZb0OtZuY"
      }
    },
    {
      "cell_type": "code",
      "source": [
        "pet_details = (\"Bella\", \"Dog\", 5)\n",
        "\n",
        "# Accessing elements\n",
        "pet_name = pet_details[0]\n",
        "pet_type = pet_details[1]\n",
        "pet_age = pet_details[2]\n",
        "\n",
        "print(f\"Pet Name: {pet_name}, Type: {pet_type}, Age: {pet_age}\")\n"
      ],
      "metadata": {
        "colab": {
          "base_uri": "https://localhost:8080/"
        },
        "id": "Bfg-t502tetp",
        "outputId": "02d24026-de16-4871-d809-8c5b1aacabba"
      },
      "execution_count": 6,
      "outputs": [
        {
          "output_type": "stream",
          "name": "stdout",
          "text": [
            "Pet Name: Bella, Type: Dog, Age: 5\n"
          ]
        }
      ]
    },
    {
      "cell_type": "markdown",
      "source": [
        "Storing pet tuples in a list and processing them:"
      ],
      "metadata": {
        "id": "DajH-hP6tgE6"
      }
    },
    {
      "cell_type": "code",
      "source": [
        "pets = [\n",
        "    (\"Bella\", \"Dog\", 5),\n",
        "    (\"Charlie\", \"Cat\", 3),\n",
        "    (\"Max\", \"Dog\", 2)\n",
        "]\n",
        "\n",
        "# Calculate average age of pets\n",
        "total_age = sum(pet[2] for pet in pets)\n",
        "average_age = total_age / len(pets)\n",
        "\n",
        "# Find all dogs\n",
        "dogs = [pet for pet in pets if pet[1] == \"Dog\"]\n",
        "\n",
        "print(f\"Average Age: {average_age}\")\n",
        "print(\"Dogs:\", dogs)\n"
      ],
      "metadata": {
        "colab": {
          "base_uri": "https://localhost:8080/"
        },
        "id": "dCA8nFO0tkvv",
        "outputId": "538ba342-5f21-40e2-b9f1-bdff1996b243"
      },
      "execution_count": 7,
      "outputs": [
        {
          "output_type": "stream",
          "name": "stdout",
          "text": [
            "Average Age: 3.3333333333333335\n",
            "Dogs: [('Bella', 'Dog', 5), ('Max', 'Dog', 2)]\n"
          ]
        }
      ]
    },
    {
      "cell_type": "markdown",
      "source": [
        "Unpacking pet tuple details:"
      ],
      "metadata": {
        "id": "wC2UiB1ntmK6"
      }
    },
    {
      "cell_type": "code",
      "source": [
        "pet = (\"Luna\", \"Bird\", 1)\n",
        "\n",
        "# Unpacking\n",
        "name, type_, age = pet\n",
        "\n",
        "print(f\"Pet Name: {name}, Type: {type_}, Age: {age}\")\n"
      ],
      "metadata": {
        "colab": {
          "base_uri": "https://localhost:8080/"
        },
        "id": "Y5M4dBCxtqEv",
        "outputId": "e44c32a1-6e06-42bc-f8ea-cda606327cdc"
      },
      "execution_count": 8,
      "outputs": [
        {
          "output_type": "stream",
          "name": "stdout",
          "text": [
            "Pet Name: Luna, Type: Bird, Age: 1\n"
          ]
        }
      ]
    },
    {
      "cell_type": "markdown",
      "source": [
        "#Dictionaries"
      ],
      "metadata": {
        "id": "f4_dkkO9trDX"
      }
    },
    {
      "cell_type": "markdown",
      "source": [
        "Managing a dictionary of pets with nested details:"
      ],
      "metadata": {
        "id": "18qJ-CN1tt5W"
      }
    },
    {
      "cell_type": "code",
      "source": [
        "pets = {\n",
        "    \"Bella\": {\"type\": \"Dog\", \"age\": 5},\n",
        "    \"Charlie\": {\"type\": \"Cat\", \"age\": 3},\n",
        "    \"Max\": {\"type\": \"Dog\", \"age\": 2}\n",
        "}\n",
        "\n",
        "# Adding a new pet\n",
        "pets[\"Luna\"] = {\"type\": \"Bird\", \"age\": 1}\n",
        "\n",
        "# Updating a pet's age\n",
        "pets[\"Max\"][\"age\"] = 3\n",
        "\n",
        "# Removing a pet\n",
        "del pets[\"Charlie\"]\n",
        "\n",
        "print(pets)\n"
      ],
      "metadata": {
        "colab": {
          "base_uri": "https://localhost:8080/"
        },
        "id": "76xuPWIktxDP",
        "outputId": "54de897c-2b47-488b-e91f-655611203dcd"
      },
      "execution_count": 9,
      "outputs": [
        {
          "output_type": "stream",
          "name": "stdout",
          "text": [
            "{'Bella': {'type': 'Dog', 'age': 5}, 'Max': {'type': 'Dog', 'age': 3}, 'Luna': {'type': 'Bird', 'age': 1}}\n"
          ]
        }
      ]
    },
    {
      "cell_type": "markdown",
      "source": [
        "Iterating through a dictionary of pets:"
      ],
      "metadata": {
        "id": "j5ZmjxL1tyMw"
      }
    },
    {
      "cell_type": "code",
      "source": [
        "pets = {\n",
        "    \"Bella\": {\"type\": \"Dog\", \"age\": 5},\n",
        "    \"Charlie\": {\"type\": \"Cat\", \"age\": 3},\n",
        "    \"Max\": {\"type\": \"Dog\", \"age\": 2},\n",
        "    \"Luna\": {\"type\": \"Bird\", \"age\": 1}\n",
        "}\n",
        "\n",
        "# Printing pet details\n",
        "for name, details in pets.items():\n",
        "    print(f\"Pet Name: {name}, Type: {details['type']}, Age: {details['age']}\")\n"
      ],
      "metadata": {
        "colab": {
          "base_uri": "https://localhost:8080/"
        },
        "id": "Z4p1u4Eat1Rl",
        "outputId": "a36d520e-175f-4dfb-eeeb-07d5c033f32c"
      },
      "execution_count": 10,
      "outputs": [
        {
          "output_type": "stream",
          "name": "stdout",
          "text": [
            "Pet Name: Bella, Type: Dog, Age: 5\n",
            "Pet Name: Charlie, Type: Cat, Age: 3\n",
            "Pet Name: Max, Type: Dog, Age: 2\n",
            "Pet Name: Luna, Type: Bird, Age: 1\n"
          ]
        }
      ]
    },
    {
      "cell_type": "markdown",
      "source": [
        "Finding pets by type in a dictionary:"
      ],
      "metadata": {
        "id": "GJRqHLmkt4a4"
      }
    },
    {
      "cell_type": "code",
      "source": [
        "pets = {\n",
        "    \"Bella\": {\"type\": \"Dog\", \"age\": 5},\n",
        "    \"Charlie\": {\"type\": \"Cat\", \"age\": 3},\n",
        "    \"Max\": {\"type\": \"Dog\", \"age\": 2},\n",
        "    \"Luna\": {\"type\": \"Bird\", \"age\": 1}\n",
        "}\n",
        "\n",
        "# Find all cats\n",
        "cats = {name: details for name, details in pets.items() if details[\"type\"] == \"Cat\"}\n",
        "\n",
        "print(\"Cats:\", cats)\n"
      ],
      "metadata": {
        "colab": {
          "base_uri": "https://localhost:8080/"
        },
        "id": "tYH6ZFzUt7Br",
        "outputId": "6c75c172-da13-4d31-e746-9d290b0de801"
      },
      "execution_count": 11,
      "outputs": [
        {
          "output_type": "stream",
          "name": "stdout",
          "text": [
            "Cats: {'Charlie': {'type': 'Cat', 'age': 3}}\n"
          ]
        }
      ]
    },
    {
      "cell_type": "markdown",
      "source": [
        "#Sets"
      ],
      "metadata": {
        "id": "yVXgAkUkt8KO"
      }
    },
    {
      "cell_type": "markdown",
      "source": [
        "Creating and manipulating sets of pet names:"
      ],
      "metadata": {
        "id": "xSwayrp3uAA5"
      }
    },
    {
      "cell_type": "code",
      "source": [
        "pet_names = {\"Bella\", \"Charlie\", \"Max\", \"Luna\"}\n",
        "\n",
        "# Adding a pet name\n",
        "pet_names.add(\"Rocky\")\n",
        "\n",
        "# Removing a pet name\n",
        "pet_names.discard(\"Charlie\")\n",
        "\n",
        "# Checking membership\n",
        "is_present = \"Bella\" in pet_names\n",
        "\n",
        "print(\"Pet Names:\", pet_names)\n",
        "print(\"Is 'Bella' present?\", is_present)\n"
      ],
      "metadata": {
        "colab": {
          "base_uri": "https://localhost:8080/"
        },
        "id": "Ex_Fdi-HuDQH",
        "outputId": "3c6a6fcd-d9ce-4366-c91a-1d8d4d730bd9"
      },
      "execution_count": 12,
      "outputs": [
        {
          "output_type": "stream",
          "name": "stdout",
          "text": [
            "Pet Names: {'Luna', 'Bella', 'Max', 'Rocky'}\n",
            "Is 'Bella' present? True\n"
          ]
        }
      ]
    },
    {
      "cell_type": "markdown",
      "source": [
        "Set operations with pet names:"
      ],
      "metadata": {
        "id": "rlW9XdrHuEil"
      }
    },
    {
      "cell_type": "code",
      "source": [
        "pets_in_house_1 = {\"Bella\", \"Max\", \"Rocky\"}\n",
        "pets_in_house_2 = {\"Luna\", \"Rocky\", \"Buddy\"}\n",
        "\n",
        "# Union of two sets\n",
        "all_pets = pets_in_house_1 | pets_in_house_2\n",
        "\n",
        "# Intersection of two sets\n",
        "common_pets = pets_in_house_1 & pets_in_house_2\n",
        "\n",
        "# Difference between two sets\n",
        "unique_pets_house_1 = pets_in_house_1 - pets_in_house_2\n",
        "\n",
        "print(\"All Pets:\", all_pets)\n",
        "print(\"Common Pets:\", common_pets)\n",
        "print(\"Unique Pets in House 1:\", unique_pets_house_1)\n"
      ],
      "metadata": {
        "colab": {
          "base_uri": "https://localhost:8080/"
        },
        "id": "WNjNpcVpuJ8W",
        "outputId": "cf271b7a-5fe7-4b9a-c4f6-5863f2477e8b"
      },
      "execution_count": 13,
      "outputs": [
        {
          "output_type": "stream",
          "name": "stdout",
          "text": [
            "All Pets: {'Rocky', 'Buddy', 'Luna', 'Bella', 'Max'}\n",
            "Common Pets: {'Rocky'}\n",
            "Unique Pets in House 1: {'Max', 'Bella'}\n"
          ]
        }
      ]
    },
    {
      "cell_type": "markdown",
      "source": [
        "Finding pets only in one house (symmetric difference):"
      ],
      "metadata": {
        "id": "wSuyD2WBuLAC"
      }
    },
    {
      "cell_type": "code",
      "source": [
        "pets_in_house_1 = {\"Bella\", \"Max\", \"Rocky\"}\n",
        "pets_in_house_2 = {\"Luna\", \"Rocky\", \"Buddy\"}\n",
        "\n",
        "# Symmetric difference\n",
        "unique_pets = pets_in_house_1 ^ pets_in_house_2\n",
        "\n",
        "print(\"Unique Pets (only in one house):\", unique_pets)\n"
      ],
      "metadata": {
        "id": "ubKHX6lRuNxK",
        "outputId": "ce0caacf-3b1b-4d16-df56-bc8178216108",
        "colab": {
          "base_uri": "https://localhost:8080/"
        }
      },
      "execution_count": 14,
      "outputs": [
        {
          "output_type": "stream",
          "name": "stdout",
          "text": [
            "Unique Pets (only in one house): {'Buddy', 'Luna', 'Bella', 'Max'}\n"
          ]
        }
      ]
    },
    {
      "cell_type": "code",
      "source": [],
      "metadata": {
        "id": "SLh23esduPdn"
      },
      "execution_count": null,
      "outputs": []
    }
  ]
}