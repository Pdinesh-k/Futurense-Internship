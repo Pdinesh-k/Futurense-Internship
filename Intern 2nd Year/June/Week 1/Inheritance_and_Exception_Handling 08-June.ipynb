{
  "nbformat": 4,
  "nbformat_minor": 0,
  "metadata": {
    "colab": {
      "provenance": []
    },
    "kernelspec": {
      "name": "python3",
      "display_name": "Python 3"
    },
    "language_info": {
      "name": "python"
    }
  },
  "cells": [
    {
      "cell_type": "markdown",
      "source": [
        "Inheritance"
      ],
      "metadata": {
        "id": "tW77PUhON-8B"
      }
    },
    {
      "cell_type": "code",
      "execution_count": 10,
      "metadata": {
        "colab": {
          "base_uri": "https://localhost:8080/"
        },
        "id": "ICmJZJxlNz21",
        "outputId": "bc9ce6f6-cae4-4ef8-9171-97e3a8b09845"
      },
      "outputs": [
        {
          "output_type": "stream",
          "name": "stdout",
          "text": [
            "Buddy is moving\n",
            "Buddy is barking\n",
            "Tweety is moving\n",
            "Tweety is flying\n"
          ]
        }
      ],
      "source": [
        "class Animal:\n",
        "    def __init__(self, name):\n",
        "        self.name = name\n",
        "\n",
        "    def move(self):\n",
        "        return f\"{self.name} is moving\"\n",
        "\n",
        "class Dog(Animal):\n",
        "    def __init__(self, name, breed):\n",
        "        super().__init__(name)\n",
        "        self.breed = breed\n",
        "\n",
        "    def bark(self):\n",
        "        return f\"{self.name} is barking\"\n",
        "\n",
        "class Bird(Animal):\n",
        "    def __init__(self, name, can_fly):\n",
        "        super().__init__(name)\n",
        "        self.can_fly = can_fly\n",
        "\n",
        "    def fly(self):\n",
        "        return f\"{self.name} is flying\" if self.can_fly else f\"{self.name} cannot fly\"\n",
        "\n",
        "dog = Dog(\"Buddy\", \"Golden Retriever\")\n",
        "print(dog.move())\n",
        "print(dog.bark())\n",
        "\n",
        "bird = Bird(\"Tweety\", True)\n",
        "print(bird.move())\n",
        "print(bird.fly())\n"
      ]
    },
    {
      "cell_type": "markdown",
      "source": [
        "#Hierarchical Inheritance"
      ],
      "metadata": {
        "id": "SVObAOyGOFGc"
      }
    },
    {
      "cell_type": "code",
      "source": [
        "class Vehicle:\n",
        "    def __init__(self, make, model):\n",
        "        self.make = make\n",
        "        self.model = model\n",
        "\n",
        "    def start(self):\n",
        "        return f\"{self.make} {self.model} is starting\"\n",
        "\n",
        "class Car(Vehicle):\n",
        "    def drive(self):\n",
        "        return f\"{self.make} {self.model} is driving\"\n",
        "\n",
        "class Motorcycle(Vehicle):\n",
        "    def ride(self):\n",
        "        return f\"{self.make} {self.model} is riding\"\n",
        "\n",
        "car = Car(\"Toyota\", \"Corolla\")\n",
        "print(car.start())\n",
        "print(car.drive())\n",
        "\n",
        "motorcycle = Motorcycle(\"Honda\", \"CBR\")\n",
        "print(motorcycle.start())\n",
        "print(motorcycle.ride())\n"
      ],
      "metadata": {
        "colab": {
          "base_uri": "https://localhost:8080/"
        },
        "id": "7L4m2SfiOFhh",
        "outputId": "b138d44e-e6bd-4b98-b6ab-c678ffed8302"
      },
      "execution_count": 3,
      "outputs": [
        {
          "output_type": "stream",
          "name": "stdout",
          "text": [
            "Toyota Corolla is starting\n",
            "Toyota Corolla is driving\n",
            "Honda CBR is starting\n",
            "Honda CBR is riding\n"
          ]
        }
      ]
    },
    {
      "cell_type": "markdown",
      "source": [
        "#Multilevel Inheritance"
      ],
      "metadata": {
        "id": "J3PQa2TlOGnr"
      }
    },
    {
      "cell_type": "code",
      "source": [
        "class Person:\n",
        "    def __init__(self, name):\n",
        "        self.name = name\n",
        "\n",
        "    def introduce(self):\n",
        "        return f\"Hello, my name is {self.name}\"\n",
        "\n",
        "class Employee(Person):\n",
        "    def __init__(self, name, employee_id):\n",
        "        super().__init__(name)\n",
        "        self.employee_id = employee_id\n",
        "\n",
        "    def work(self):\n",
        "        return f\"{self.name} is working\"\n",
        "\n",
        "class Manager(Employee):\n",
        "    def __init__(self, name, employee_id, department):\n",
        "        super().__init__(name, employee_id)\n",
        "        self.department = department\n",
        "\n",
        "    def manage(self):\n",
        "        return f\"{self.name} is managing the {self.department} department\"\n",
        "\n",
        "manager = Manager(\"Alice\", \"E123\", \"HR\")\n",
        "print(manager.introduce())\n",
        "print(manager.work())\n",
        "print(manager.manage())\n"
      ],
      "metadata": {
        "colab": {
          "base_uri": "https://localhost:8080/"
        },
        "id": "Pv9jLogeOG-n",
        "outputId": "c815e8e8-d6de-4613-ab81-930f63c5e6f6"
      },
      "execution_count": 4,
      "outputs": [
        {
          "output_type": "stream",
          "name": "stdout",
          "text": [
            "Hello, my name is Alice\n",
            "Alice is working\n",
            "Alice is managing the HR department\n"
          ]
        }
      ]
    },
    {
      "cell_type": "markdown",
      "source": [
        "#Handling Division by Zero"
      ],
      "metadata": {
        "id": "m-SU1WtDOiv6"
      }
    },
    {
      "cell_type": "code",
      "source": [
        "try:\n",
        "    numerator = 10\n",
        "    denominator = 0\n",
        "    result = numerator / denominator\n",
        "except ZeroDivisionError as e:\n",
        "    print(f\"Error: {e}\")\n",
        "else:\n",
        "    print(f\"The result is {result}\")\n",
        "finally:\n",
        "    print(\"Division operation completed.\")\n"
      ],
      "metadata": {
        "colab": {
          "base_uri": "https://localhost:8080/"
        },
        "id": "vm8ggzVbOd1v",
        "outputId": "b1a83e9e-fccb-4f30-ed6a-c961e1b028d9"
      },
      "execution_count": 5,
      "outputs": [
        {
          "output_type": "stream",
          "name": "stdout",
          "text": [
            "Error: division by zero\n",
            "Division operation completed.\n"
          ]
        }
      ]
    },
    {
      "cell_type": "markdown",
      "source": [
        "#Handling File Not Found"
      ],
      "metadata": {
        "id": "OcuPzUCIOm5r"
      }
    },
    {
      "cell_type": "code",
      "source": [
        "try:\n",
        "    with open('non_existent_file.txt', 'r') as file:\n",
        "        content = file.read()\n",
        "except FileNotFoundError as e:\n",
        "    print(f\"Error: {e}\")\n",
        "else:\n",
        "    print(content)\n",
        "finally:\n",
        "    print(\"File operation completed.\")\n"
      ],
      "metadata": {
        "colab": {
          "base_uri": "https://localhost:8080/"
        },
        "id": "CfAxusp1Of3J",
        "outputId": "94e13ef2-4658-49c0-940c-ade6e4eef5c2"
      },
      "execution_count": 6,
      "outputs": [
        {
          "output_type": "stream",
          "name": "stdout",
          "text": [
            "Error: [Errno 2] No such file or directory: 'non_existent_file.txt'\n",
            "File operation completed.\n"
          ]
        }
      ]
    },
    {
      "cell_type": "markdown",
      "source": [
        "#Handling Invalid Input"
      ],
      "metadata": {
        "id": "jh1x8AFFOrR5"
      }
    },
    {
      "cell_type": "code",
      "source": [
        "try:\n",
        "    age = int(input(\"Enter your age: \"))\n",
        "except ValueError as e:\n",
        "    print(f\"Invalid input: {e}\")\n",
        "else:\n",
        "    print(f\"Your age is {age}\")\n",
        "finally:\n",
        "    print(\"Input operation completed.\")\n"
      ],
      "metadata": {
        "colab": {
          "base_uri": "https://localhost:8080/"
        },
        "id": "PKl2_Ke7Oh1U",
        "outputId": "9bc93dae-809a-4ab6-9ac4-9aa08a73e8c4"
      },
      "execution_count": 7,
      "outputs": [
        {
          "output_type": "stream",
          "name": "stdout",
          "text": [
            "Enter your age: 12\n",
            "Your age is 12\n",
            "Input operation completed.\n"
          ]
        }
      ]
    },
    {
      "cell_type": "code",
      "source": [
        "def calculate_average(numbers):\n",
        "  total = sum(numbers)\n",
        "  try:\n",
        "    average = total / len(numbers)\n",
        "  except ZeroDivisionError:\n",
        "    print(\"Error: Cannot divide by zero.\")\n",
        "    return None\n",
        "  except TypeError:\n",
        "    print(\"Error: Input must be a list of numbers.\")\n",
        "    return None\n",
        "  finally:\n",
        "    print(\"Calculation complete.\")\n",
        "\n",
        "numbers = [1, 2, 3]\n",
        "average = calculate_average(numbers)\n",
        "if average is not None:\n",
        "  print(\"The average is:\", average)\n",
        "\n",
        "numbers = [1, 2, 0]\n",
        "average = calculate_average(numbers)\n",
        "\n"
      ],
      "metadata": {
        "colab": {
          "base_uri": "https://localhost:8080/"
        },
        "id": "EqWwgwCHPpss",
        "outputId": "d4459f38-0ef6-44ad-f7be-1a01fc1e95d6"
      },
      "execution_count": 9,
      "outputs": [
        {
          "output_type": "stream",
          "name": "stdout",
          "text": [
            "Calculation complete.\n",
            "Calculation complete.\n"
          ]
        }
      ]
    },
    {
      "cell_type": "code",
      "source": [],
      "metadata": {
        "id": "w9MlIVkPQF-y"
      },
      "execution_count": null,
      "outputs": []
    }
  ]
}