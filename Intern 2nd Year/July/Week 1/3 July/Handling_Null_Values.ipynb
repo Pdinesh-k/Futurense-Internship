{
  "nbformat": 4,
  "nbformat_minor": 0,
  "metadata": {
    "colab": {
      "provenance": []
    },
    "kernelspec": {
      "name": "python3",
      "display_name": "Python 3"
    },
    "language_info": {
      "name": "python"
    }
  },
  "cells": [
    {
      "cell_type": "code",
      "execution_count": 13,
      "metadata": {
        "colab": {
          "base_uri": "https://localhost:8080/"
        },
        "id": "UOghGhtyzWgi",
        "outputId": "34b57fbf-bb91-4c1e-e844-d09684a98030"
      },
      "outputs": [
        {
          "output_type": "stream",
          "name": "stdout",
          "text": [
            "Original DataFrame:\n",
            "  Customer ID         Name Gender   Age  Income (USD) Profession\n",
            "0       C-001     John Doe      M  28.0       50000.0   Engineer\n",
            "1       C-002   Jane Smith      F  34.0           NaN     Doctor\n",
            "2       C-003          NaN      F  29.0       60000.0     Artist\n",
            "3       C-004    Mike Ross      M   NaN       52000.0     Lawyer\n",
            "4       C-005  Rachel Zane    NaN  24.0       49000.0        NaN\n"
          ]
        }
      ],
      "source": [
        "import pandas as pd\n",
        "import numpy as np\n",
        "\n",
        "data = {\n",
        "    'Customer ID': ['C-001', 'C-002', 'C-003', 'C-004', 'C-005'],\n",
        "    'Name': ['John Doe', 'Jane Smith', np.nan, 'Mike Ross', 'Rachel Zane'],\n",
        "    'Gender': ['M', 'F', 'F', 'M', np.nan],\n",
        "    'Age': [28, 34, 29, np.nan, 24],\n",
        "    'Income (USD)': [50000, np.nan, 60000, 52000, 49000],\n",
        "    'Profession': ['Engineer', 'Doctor', 'Artist', 'Lawyer', np.nan]\n",
        "}\n",
        "\n",
        "df = pd.DataFrame(data)\n",
        "print(\"Original DataFrame:\")\n",
        "print(df)\n"
      ]
    },
    {
      "cell_type": "markdown",
      "source": [
        "Remove Rows with Any Null Values"
      ],
      "metadata": {
        "id": "0aeNAfuazZAo"
      }
    },
    {
      "cell_type": "code",
      "source": [
        "df_dropna = df.dropna()\n",
        "print(\"\\nDataFrame after dropping rows with any null values:\")\n",
        "print(df_dropna)\n"
      ],
      "metadata": {
        "colab": {
          "base_uri": "https://localhost:8080/"
        },
        "id": "itCMY5Vczbli",
        "outputId": "7f6821d9-0131-4226-a82d-c10ff937918b"
      },
      "execution_count": 14,
      "outputs": [
        {
          "output_type": "stream",
          "name": "stdout",
          "text": [
            "\n",
            "DataFrame after dropping rows with any null values:\n",
            "  Customer ID      Name Gender   Age  Income (USD) Profession\n",
            "0       C-001  John Doe      M  28.0       50000.0   Engineer\n"
          ]
        }
      ]
    },
    {
      "cell_type": "markdown",
      "source": [
        "Remove Columns with Any Null Values"
      ],
      "metadata": {
        "id": "tMYNYBj-zdMK"
      }
    },
    {
      "cell_type": "code",
      "source": [
        "df_dropna_columns = df.dropna(axis=1)\n",
        "print(\"\\nDataFrame after dropping columns with any null values:\")\n",
        "print(df_dropna_columns)\n"
      ],
      "metadata": {
        "colab": {
          "base_uri": "https://localhost:8080/"
        },
        "id": "KVHWQcGFzgrk",
        "outputId": "294f1feb-c05d-41dc-f630-955682c4b76c"
      },
      "execution_count": 15,
      "outputs": [
        {
          "output_type": "stream",
          "name": "stdout",
          "text": [
            "\n",
            "DataFrame after dropping columns with any null values:\n",
            "  Customer ID\n",
            "0       C-001\n",
            "1       C-002\n",
            "2       C-003\n",
            "3       C-004\n",
            "4       C-005\n"
          ]
        }
      ]
    },
    {
      "cell_type": "markdown",
      "source": [
        "Impute with Constant Value"
      ],
      "metadata": {
        "id": "1svPP6v_ziCY"
      }
    },
    {
      "cell_type": "code",
      "source": [
        "df_impute_constant = df.fillna({'Name': 'Unknown', 'Gender': 'Unknown', 'Profession': 'Unknown'})\n",
        "print(\"\\nDataFrame after imputing with a constant value:\")\n",
        "print(df_impute_constant)\n"
      ],
      "metadata": {
        "colab": {
          "base_uri": "https://localhost:8080/"
        },
        "id": "uedShA2azljv",
        "outputId": "a5b54b44-6423-4fb6-a195-c62d3fdb101a"
      },
      "execution_count": 16,
      "outputs": [
        {
          "output_type": "stream",
          "name": "stdout",
          "text": [
            "\n",
            "DataFrame after imputing with a constant value:\n",
            "  Customer ID         Name   Gender   Age  Income (USD) Profession\n",
            "0       C-001     John Doe        M  28.0       50000.0   Engineer\n",
            "1       C-002   Jane Smith        F  34.0           NaN     Doctor\n",
            "2       C-003      Unknown        F  29.0       60000.0     Artist\n",
            "3       C-004    Mike Ross        M   NaN       52000.0     Lawyer\n",
            "4       C-005  Rachel Zane  Unknown  24.0       49000.0    Unknown\n"
          ]
        }
      ]
    },
    {
      "cell_type": "markdown",
      "source": [
        "Impute with Mean Value"
      ],
      "metadata": {
        "id": "_DuA8okrzl2K"
      }
    },
    {
      "cell_type": "code",
      "source": [
        "df_impute_mean = df.copy()\n",
        "df_impute_mean['Age'].fillna(df_impute_mean['Age'].mean(), inplace=True)\n",
        "df_impute_mean['Income (USD)'].fillna(df_impute_mean['Income (USD)'].mean(), inplace=True)\n",
        "print(\"\\nDataFrame after imputing with mean value:\")\n",
        "print(df_impute_mean)\n"
      ],
      "metadata": {
        "colab": {
          "base_uri": "https://localhost:8080/"
        },
        "id": "3rB6LmS-zoZH",
        "outputId": "b9c2bb2a-1339-4aa8-8fc5-c9fad257ef59"
      },
      "execution_count": 17,
      "outputs": [
        {
          "output_type": "stream",
          "name": "stdout",
          "text": [
            "\n",
            "DataFrame after imputing with mean value:\n",
            "  Customer ID         Name Gender    Age  Income (USD) Profession\n",
            "0       C-001     John Doe      M  28.00       50000.0   Engineer\n",
            "1       C-002   Jane Smith      F  34.00       52750.0     Doctor\n",
            "2       C-003          NaN      F  29.00       60000.0     Artist\n",
            "3       C-004    Mike Ross      M  28.75       52000.0     Lawyer\n",
            "4       C-005  Rachel Zane    NaN  24.00       49000.0        NaN\n"
          ]
        }
      ]
    },
    {
      "cell_type": "markdown",
      "source": [
        "Impute with Median Value"
      ],
      "metadata": {
        "id": "w04zDmFNzpZJ"
      }
    },
    {
      "cell_type": "code",
      "source": [
        "df_impute_median = df.copy()\n",
        "df_impute_median['Age'].fillna(df_impute_median['Age'].median(), inplace=True)\n",
        "df_impute_median['Income (USD)'].fillna(df_impute_median['Income (USD)'].median(), inplace=True)\n",
        "print(\"\\nDataFrame after imputing with median value:\")\n",
        "print(df_impute_median)\n"
      ],
      "metadata": {
        "colab": {
          "base_uri": "https://localhost:8080/"
        },
        "id": "9vX5bCmMzsrg",
        "outputId": "b668f69d-6072-46db-b726-9baeab787e14"
      },
      "execution_count": 18,
      "outputs": [
        {
          "output_type": "stream",
          "name": "stdout",
          "text": [
            "\n",
            "DataFrame after imputing with median value:\n",
            "  Customer ID         Name Gender   Age  Income (USD) Profession\n",
            "0       C-001     John Doe      M  28.0       50000.0   Engineer\n",
            "1       C-002   Jane Smith      F  34.0       51000.0     Doctor\n",
            "2       C-003          NaN      F  29.0       60000.0     Artist\n",
            "3       C-004    Mike Ross      M  28.5       52000.0     Lawyer\n",
            "4       C-005  Rachel Zane    NaN  24.0       49000.0        NaN\n"
          ]
        }
      ]
    },
    {
      "cell_type": "markdown",
      "source": [
        "Impute with Mode Value"
      ],
      "metadata": {
        "id": "5e34gNEBzs8r"
      }
    },
    {
      "cell_type": "code",
      "source": [
        "df_impute_mode = df.copy()\n",
        "df_impute_mode['Gender'].fillna(df_impute_mode['Gender'].mode()[0], inplace=True)\n",
        "print(\"\\nDataFrame after imputing with mode value:\")\n",
        "print(df_impute_mode)\n"
      ],
      "metadata": {
        "colab": {
          "base_uri": "https://localhost:8080/"
        },
        "id": "SZRCgiOTzwVE",
        "outputId": "92c71003-f2b6-49ef-dc20-f9670f71b983"
      },
      "execution_count": 19,
      "outputs": [
        {
          "output_type": "stream",
          "name": "stdout",
          "text": [
            "\n",
            "DataFrame after imputing with mode value:\n",
            "  Customer ID         Name Gender   Age  Income (USD) Profession\n",
            "0       C-001     John Doe      M  28.0       50000.0   Engineer\n",
            "1       C-002   Jane Smith      F  34.0           NaN     Doctor\n",
            "2       C-003          NaN      F  29.0       60000.0     Artist\n",
            "3       C-004    Mike Ross      M   NaN       52000.0     Lawyer\n",
            "4       C-005  Rachel Zane      F  24.0       49000.0        NaN\n"
          ]
        }
      ]
    },
    {
      "cell_type": "markdown",
      "source": [
        "Forward Fill"
      ],
      "metadata": {
        "id": "Pdc7YTCOzx-o"
      }
    },
    {
      "cell_type": "code",
      "source": [
        "df_ffill = df.fillna(method='ffill')\n",
        "print(\"\\nDataFrame after forward fill:\")\n",
        "print(df_ffill)\n"
      ],
      "metadata": {
        "colab": {
          "base_uri": "https://localhost:8080/"
        },
        "id": "MAPWV5-ez0p1",
        "outputId": "eedfa6aa-da86-4716-f768-1df20978da3e"
      },
      "execution_count": 20,
      "outputs": [
        {
          "output_type": "stream",
          "name": "stdout",
          "text": [
            "\n",
            "DataFrame after forward fill:\n",
            "  Customer ID         Name Gender   Age  Income (USD) Profession\n",
            "0       C-001     John Doe      M  28.0       50000.0   Engineer\n",
            "1       C-002   Jane Smith      F  34.0       50000.0     Doctor\n",
            "2       C-003   Jane Smith      F  29.0       60000.0     Artist\n",
            "3       C-004    Mike Ross      M  29.0       52000.0     Lawyer\n",
            "4       C-005  Rachel Zane      M  24.0       49000.0     Lawyer\n"
          ]
        }
      ]
    },
    {
      "cell_type": "markdown",
      "source": [
        "Backward Fill"
      ],
      "metadata": {
        "id": "Cn-hq0iez1pt"
      }
    },
    {
      "cell_type": "code",
      "source": [
        "df_bfill = df.fillna(method='bfill')\n",
        "print(\"\\nDataFrame after backward fill:\")\n",
        "print(df_bfill)\n"
      ],
      "metadata": {
        "colab": {
          "base_uri": "https://localhost:8080/"
        },
        "id": "1ea2zhQ1z38c",
        "outputId": "2f1458a1-2d45-4019-d92a-d80f5b0c6a45"
      },
      "execution_count": 21,
      "outputs": [
        {
          "output_type": "stream",
          "name": "stdout",
          "text": [
            "\n",
            "DataFrame after backward fill:\n",
            "  Customer ID         Name Gender   Age  Income (USD) Profession\n",
            "0       C-001     John Doe      M  28.0       50000.0   Engineer\n",
            "1       C-002   Jane Smith      F  34.0       60000.0     Doctor\n",
            "2       C-003    Mike Ross      F  29.0       60000.0     Artist\n",
            "3       C-004    Mike Ross      M  24.0       52000.0     Lawyer\n",
            "4       C-005  Rachel Zane    NaN  24.0       49000.0        NaN\n"
          ]
        }
      ]
    },
    {
      "cell_type": "markdown",
      "source": [
        "Impute with KNN"
      ],
      "metadata": {
        "id": "fpG15a4Cz47a"
      }
    },
    {
      "cell_type": "code",
      "source": [
        "from sklearn.impute import KNNImputer\n",
        "\n",
        "imputer = KNNImputer(n_neighbors=2)\n",
        "\n",
        "df_numeric = df[['Age', 'Income (USD)']]\n",
        "\n",
        "df_numeric_imputed = pd.DataFrame(imputer.fit_transform(df_numeric), columns=df_numeric.columns)\n",
        "\n",
        "df_knn = df.copy()\n",
        "df_knn['Age'] = df_numeric_imputed['Age']\n",
        "df_knn['Income (USD)'] = df_numeric_imputed['Income (USD)']\n",
        "\n",
        "print(\"\\nDataFrame after KNN imputation:\")\n",
        "print(df_knn)\n"
      ],
      "metadata": {
        "colab": {
          "base_uri": "https://localhost:8080/"
        },
        "id": "SFyd_qNjz9XT",
        "outputId": "e3b5633f-833a-4deb-dcae-bc0e2c8f7030"
      },
      "execution_count": 22,
      "outputs": [
        {
          "output_type": "stream",
          "name": "stdout",
          "text": [
            "\n",
            "DataFrame after KNN imputation:\n",
            "  Customer ID         Name Gender   Age  Income (USD) Profession\n",
            "0       C-001     John Doe      M  28.0       50000.0   Engineer\n",
            "1       C-002   Jane Smith      F  34.0       55000.0     Doctor\n",
            "2       C-003          NaN      F  29.0       60000.0     Artist\n",
            "3       C-004    Mike Ross      M  26.0       52000.0     Lawyer\n",
            "4       C-005  Rachel Zane    NaN  24.0       49000.0        NaN\n"
          ]
        }
      ]
    },
    {
      "cell_type": "markdown",
      "source": [
        "Impute Categorical Data with Most Frequent Value and Numerical Data with KNN"
      ],
      "metadata": {
        "id": "j1ZA7uUNz_1l"
      }
    },
    {
      "cell_type": "code",
      "source": [
        "from sklearn.preprocessing import LabelEncoder\n",
        "\n",
        "label_encoder = LabelEncoder()\n",
        "df_encoded = df.copy()\n",
        "df_encoded['Gender'] = df_encoded['Gender'].astype(str)\n",
        "df_encoded['Gender'] = label_encoder.fit_transform(df_encoded['Gender'])\n",
        "\n",
        "df_encoded_numeric = df_encoded[['Age', 'Income (USD)']]\n",
        "df_encoded_numeric_imputed = pd.DataFrame(imputer.fit_transform(df_encoded_numeric), columns=df_encoded_numeric.columns)\n",
        "\n",
        "df_combined = df_encoded.copy()\n",
        "df_combined['Age'] = df_encoded_numeric_imputed['Age']\n",
        "df_combined['Income (USD)'] = df_encoded_numeric_imputed['Income (USD)']\n",
        "\n",
        "df_combined['Gender'] = df_combined['Gender'].replace(label_encoder.transform([label_encoder.classes_[-1]])[0], np.nan)\n",
        "df_combined['Gender'].fillna(df_combined['Gender'].mode()[0], inplace=True)\n",
        "\n",
        "df_combined['Gender'] = label_encoder.inverse_transform(df_combined['Gender'].astype(int))\n",
        "\n",
        "print(\"\\nDataFrame after combined KNN imputation for numerical and mode for categorical columns:\")\n",
        "print(df_combined)\n"
      ],
      "metadata": {
        "colab": {
          "base_uri": "https://localhost:8080/"
        },
        "id": "bGPdKRBa0Aag",
        "outputId": "3a0f67a9-8b55-43fd-8138-9bcfe97eed56"
      },
      "execution_count": 23,
      "outputs": [
        {
          "output_type": "stream",
          "name": "stdout",
          "text": [
            "\n",
            "DataFrame after combined KNN imputation for numerical and mode for categorical columns:\n",
            "  Customer ID         Name Gender   Age  Income (USD) Profession\n",
            "0       C-001     John Doe      M  28.0       50000.0   Engineer\n",
            "1       C-002   Jane Smith      F  34.0       55000.0     Doctor\n",
            "2       C-003          NaN      F  29.0       60000.0     Artist\n",
            "3       C-004    Mike Ross      M  26.0       52000.0     Lawyer\n",
            "4       C-005  Rachel Zane      F  24.0       49000.0        NaN\n"
          ]
        }
      ]
    },
    {
      "cell_type": "code",
      "source": [],
      "metadata": {
        "id": "IMywMGvB0Bau"
      },
      "execution_count": 23,
      "outputs": []
    }
  ]
}